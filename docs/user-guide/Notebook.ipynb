{
 "cells": [
  {
   "cell_type": "markdown",
   "id": "0e389a29-a698-4e76-911f-94a6c17a8ad9",
   "metadata": {},
   "source": [
    "First we import our packages"
   ]
  },
  {
   "cell_type": "code",
   "execution_count": 1,
   "id": "967fc8f6-607e-4204-a3cd-a7cd07cd5605",
   "metadata": {},
   "outputs": [],
   "source": [
    "import numpy as np"
   ]
  },
  {
   "cell_type": "markdown",
   "id": "0c9274ec-489e-40ca-953e-8a71923df0b9",
   "metadata": {},
   "source": [
    "Then we run some code"
   ]
  },
  {
   "cell_type": "code",
   "execution_count": 2,
   "id": "d1effd86-b46e-4503-8cb5-72f7e4d307fe",
   "metadata": {},
   "outputs": [
    {
     "name": "stdout",
     "output_type": "stream",
     "text": [
      "0.816496580927726\n"
     ]
    }
   ],
   "source": [
    "a = np.std([1, 2, 3])\n",
    "print(a)"
   ]
  },
  {
   "cell_type": "code",
   "execution_count": null,
   "id": "17ab382a-d056-4de2-92fe-53fb1241f51e",
   "metadata": {},
   "outputs": [],
   "source": []
  }
 ],
 "metadata": {
  "kernelspec": {
   "display_name": "Python 3 (ipykernel)",
   "language": "python",
   "name": "python3"
  },
  "language_info": {
   "codemirror_mode": {
    "name": "ipython",
    "version": 3
   },
   "file_extension": ".py",
   "mimetype": "text/x-python",
   "name": "python",
   "nbconvert_exporter": "python",
   "pygments_lexer": "ipython3",
   "version": "3.10.14"
  }
 },
 "nbformat": 4,
 "nbformat_minor": 5
}
